{
 "cells": [
  {
   "cell_type": "code",
   "execution_count": 1,
   "metadata": {},
   "outputs": [],
   "source": [
    "import struct\n",
    "import pathlib\n",
    "\n",
    "file_path = pathlib.Path(\"./sample.vdif\").expanduser()\n",
    "VDIF_HEADER_BYTE_SIZE = 32\n",
    "with file_path.open(\"rb\") as f:\n",
    "    header_bytes = f.read(VDIF_HEADER_BYTE_SIZE)\n",
    "    words = struct.unpack(\"<8I\", header_bytes)"
   ]
  },
  {
   "cell_type": "code",
   "execution_count": 2,
   "metadata": {},
   "outputs": [],
   "source": [
    "# coding: utf-8\n",
    "from typing import Callable, Sequence\n",
    "\n",
    "Words = Sequence[int]\n",
    "Parser = Callable[[Words], int]\n",
    "\n",
    "\n",
    "def make_parser(word_index: int, bit_index: int, bit_length: int) -> Parser:\n",
    "    \"\"\"Construct a function that converts specific bits from a header.\n",
    "\n",
    "    The function acts on a tuple/array of 32-bits words, extracting given bits\n",
    "    from a specific word and convert then to a integer.\n",
    "    The parameters are those that define header keywords, and the parser do\n",
    "    ``(words[word_index] >> bit_index) & ((1 << bit_length) - 1)``.\n",
    "\n",
    "    Args:\n",
    "        word_index (int): Index into the tuple of words passed to the function.\n",
    "        bit_index (int): Index to the starting bit of the part to be extracted.\n",
    "        bit_length (int): Number of bits to be extracted.\n",
    "\n",
    "    Return:\n",
    "        parser (function): A converter of specific bits from a header.\n",
    "\n",
    "    Raises:\n",
    "        ValueError: It the size of specific bits is less than or equal to 0\n",
    "            or greater than 32.\n",
    "    \"\"\"\n",
    "    if not 0 < bit_index + bit_length <= 32:\n",
    "        raise ValueError(\n",
    "            \"the size of specific bits expected to be greater than 0 and less than 32, \"\n",
    "            f\"got {bit_index + bit_length}\"\n",
    "        )\n",
    "\n",
    "    def parser(words: Words) -> int:\n",
    "        bit_mask = (1 << bit_length) - 1\n",
    "        return (words[word_index] >> bit_index) & bit_mask\n",
    "\n",
    "    return parser()"
   ]
  },
  {
   "cell_type": "code",
   "execution_count": 4,
   "metadata": {},
   "outputs": [
    {
     "name": "stdout",
     "output_type": "stream",
     "text": [
      "28\n"
     ]
    }
   ],
   "source": [
    "class Header_common():\n",
    "    bit_specs = {\n",
    "        \"seconds\": (0, 0, 30),\n",
    "        \"legacy\": (0, 30, 1),\n",
    "        \"invalid\": (0, 31, 1),\n",
    "        \"data_frame\": (1, 0, 24),\n",
    "        \"ref_epoch\": (1, 24, 6),\n",
    "        \"unassigned\": (1, 30, 2),\n",
    "        \"data_frame_length\": (2, 0, 24),\n",
    "        \"log_2_channels\": (2, 24, 5),\n",
    "        \"vdif_version\": (2, 29, 3),\n",
    "        \"station\": (3, 0, 16),\n",
    "        \"thread\": (3, 16, 10),\n",
    "        \"bit_sample\": (3, 26, 5),\n",
    "        \"data_type\": (3, 31, 1)\n",
    "        }\n",
    "    \n",
    "    def __init__(self):\n",
    "        for key, val in self.bit_specs.items():\n",
    "            self.__setattr__(key, self.make_parser(*val))\n",
    "            #setattr(self, key, self.make_parser(*val))\n",
    "    def make_parser(self, word_index: int, bit_index: int, bit_length: int) -> Parser:  \n",
    "        def parser(words: Words) -> int:\n",
    "            bit_mask = (1 << bit_length) - 1\n",
    "            return (words[word_index] >> bit_index) & bit_mask\n",
    "        return parser(words)\n",
    "    \n",
    "hc = Header_common()\n",
    "#print(dir(h))\n",
    "print(hc.ref_epoch)"
   ]
  },
  {
   "cell_type": "code",
   "execution_count": 5,
   "metadata": {},
   "outputs": [
    {
     "name": "stdout",
     "output_type": "stream",
     "text": [
      "14363767\n"
     ]
    }
   ],
   "source": [
    "class Header_vdif3(Header_common):\n",
    "    def __init__(self):\n",
    "        super().__init__()\n",
    "        for key, val in self.vdif3.items():\n",
    "            self.__setattr__(key, self.make_parser(*val)) \n",
    "\n",
    "    \n",
    "    vdif3 = {\n",
    "        \"sampling_rate\": (4, 0, 23),\n",
    "        \"unit\": (4, 23, 1),\n",
    "        \"edv\": (4, 24, 8),\n",
    "        \"sync pattern\": (5, 0, 32),\n",
    "        \"loif_freq\": (6, 0, 32),\n",
    "        \"personality type\": (7, 0, 8),\n",
    "        \"minor_rev\": (7, 8, 4),\n",
    "        \"major_rev\": (7, 12, 4),\n",
    "        \"esb\": (7, 16, 1),\n",
    "        \"sub band\": (7, 17, 3),\n",
    "        \"_if\": (7, 20, 4),\n",
    "        \"dbe_unit\": (7, 24, 4),\n",
    "        \"ua\": (7, 28, 4)\n",
    "        }\n",
    "\n",
    "h3 = Header_vdif3()\n",
    "print(h3.seconds)"
   ]
  },
  {
   "cell_type": "code",
   "execution_count": null,
   "metadata": {},
   "outputs": [],
   "source": []
  }
 ],
 "metadata": {
  "kernelspec": {
   "display_name": "Python 3",
   "language": "python",
   "name": "python3"
  },
  "language_info": {
   "codemirror_mode": {
    "name": "ipython",
    "version": 3
   },
   "file_extension": ".py",
   "mimetype": "text/x-python",
   "name": "python",
   "nbconvert_exporter": "python",
   "pygments_lexer": "ipython3",
   "version": "3.7.2"
  }
 },
 "nbformat": 4,
 "nbformat_minor": 4
}
